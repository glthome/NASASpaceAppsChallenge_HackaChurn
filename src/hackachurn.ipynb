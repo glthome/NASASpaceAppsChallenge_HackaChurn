{
  "nbformat": 4,
  "nbformat_minor": 0,
  "metadata": {
    "colab": {
      "provenance": [],
      "collapsed_sections": [],
      "include_colab_link": true
    },
    "kernelspec": {
      "name": "python3",
      "display_name": "Python 3"
    },
    "language_info": {
      "name": "python"
    }
  },
  "cells": [
    {
      "cell_type": "markdown",
      "metadata": {
        "id": "view-in-github",
        "colab_type": "text"
      },
      "source": [
        "<a href=\"https://colab.research.google.com/github/glthome/NASASpaceAppsChallenge_HackaChurn/blob/main/src/hackachurn.ipynb\" target=\"_parent\"><img src=\"https://colab.research.google.com/assets/colab-badge.svg\" alt=\"Open In Colab\"/></a>"
      ]
    },
    {
      "cell_type": "code",
      "source": [
        "#@title Deploy\n",
        "url = 'https://osf.io/2bhfx/' #@param {type:\"string\"}\n",
        "import http.client\n",
        "import json\n",
        "conn = http.client.HTTPSConnection(\"api.osf.io\")\n",
        "payload = ''\n",
        "headers = {\n",
        "  'authority': 'api.osf.io',\n",
        "  'accept': 'application/vnd.api+json; version=2.20',\n",
        "  'accept-language': 'pt-BR,pt;q=0.9,en-US;q=0.8,en;q=0.7',\n",
        "  'cookie': 'dwf_ab_testing_home_page_hero_text_version_b=True; _ga=GA1.2.669732988.1664581362; _gid=GA1.2.1880660877.1664581362; _gac_UA-26813616-1=1.1664581362.CjwKCAjwp9qZBhBkEiwAsYFsb41ETbsA-zHG_O3amtrVvSYcyl2QMFpCRZNMo-m5NnWbirS0keTAFxoCk18QAvD_BwE; osf=6337e23aec7f3f0521f61279.lsrC-M0bUw3CcOgM_Ox8Bsta4YM; dwf_ab_testing_home_page_hero_text_version_b=True',\n",
        "  'origin': 'https://osf.io',\n",
        "  'referer': 'https://osf.io/',\n",
        "  'sec-ch-ua': '\"Chromium\";v=\"106\", \"Google Chrome\";v=\"106\", \"Not;A=Brand\";v=\"99\"',\n",
        "  'sec-ch-ua-mobile': '?1',\n",
        "  'sec-ch-ua-platform': '\"Android\"',\n",
        "  'sec-fetch-dest': 'empty',\n",
        "  'sec-fetch-mode': 'cors',\n",
        "  'sec-fetch-site': 'same-site',\n",
        "  'user-agent': 'Mozilla/5.0 (Linux; Android 6.0; Nexus 5 Build/MRA58N) AppleWebKit/537.36 (KHTML, like Gecko) Chrome/106.0.0.0 Mobile Safari/537.36',\n",
        "  'x-csrftoken': 'pztnZQG2q1Vfrws4NVFNQd6IZyXknQ0RCcxZnzpDHTSftjSXlCL10Z4pKNmZLaIU'}\n",
        "lista = url.split('/')\n",
        "codigoArtigo = lista[3]\n",
        "conn.request(\"GET\", f\"/v2/nodes/{codigoArtigo}/?related_counts=true\", payload, headers)\n",
        "res = conn.getresponse()\n",
        "dado = res.read()\n",
        "my_bytes_value = dado\n",
        "my_json = my_bytes_value.decode('utf8').replace(\"'\", '\"')\n",
        "data = json.loads(my_json)\n",
        "erro = False\n",
        "while erro == False:\n",
        "  try:\n",
        "    logs = data['data']['relationships']['logs']['links']['related']['meta']['count']\n",
        "  except:\n",
        "    erro = True\n",
        "  try:\n",
        "    wikis = data['data']['relationships']['wikis']['links']['related']['meta']['count']\n",
        "  except:\n",
        "    erro = True\n",
        "  try:\n",
        "    contribuitors = data['data']['relationships']['contributors']['links']['related']['meta']['count']\n",
        "  except:\n",
        "    erro = True\n",
        "  try:\n",
        "    forks = data['data']['relationships']['forks']['links']['related']['meta']['count']\n",
        "  except:\n",
        "    erro = True\n",
        "  try:\n",
        "    comments = data['data']['relationships']['comments']['links']['related']['meta']['unread']['node']\n",
        "  except:\n",
        "    erro = True\n",
        "\n",
        "  soma_menores = wikis + comments + contribuitors + forks\n",
        "  if soma_menores == 0:\n",
        "    if logs < 10:\n",
        "      erro = True\n",
        "  else:\n",
        "    qtde_otima_comments = 5 \n",
        "    qtde_otima_wikis = 3 \n",
        "    qtde_otima_contribuitors = 2 \n",
        "    qtde_otima_forks = 3 \n",
        "    qtde_otima_logs = 100 \n",
        "    pts_contribuitors = contribuitors / qtde_otima_contribuitors\n",
        "    pts_wikis = wikis / qtde_otima_wikis\n",
        "    pts_comments = comments / qtde_otima_comments\n",
        "    pts_forks = forks / qtde_otima_forks\n",
        "    pts_logs = logs / qtde_otima_logs\n",
        "    peso_contribuitors = 2\n",
        "    peso_wikis = 3\n",
        "    peso_comments = 5\n",
        "    peso_forks = 5\n",
        "    peso_logs = 8\n",
        "    numerador = (pts_contribuitors * peso_contribuitors + \n",
        "                pts_wikis * peso_wikis +\n",
        "                pts_comments * peso_comments +\n",
        "                pts_forks * peso_forks +\n",
        "                pts_logs * peso_logs)\n",
        "                \n",
        "    denominador = (peso_contribuitors + peso_wikis +\n",
        "                  peso_comments + peso_forks +\n",
        "                  peso_logs)\n",
        "    resultado = 10 * (numerador / denominador)\n",
        "    break\n",
        "if resultado < 1:\n",
        "  print(\"Não há informações suficientes para realizar o cálculo\")\n",
        "else:\n",
        "  print(resultado)"
      ],
      "metadata": {
        "colab": {
          "base_uri": "https://localhost:8080/"
        },
        "id": "m98ogPtN-VVe",
        "outputId": "31516b74-0fe4-4270-a0bc-6a6cb69acdfa"
      },
      "execution_count": null,
      "outputs": [
        {
          "output_type": "stream",
          "name": "stdout",
          "text": [
            "10.556521739130435\n"
          ]
        }
      ]
    }
  ]
}